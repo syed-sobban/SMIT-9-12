{
 "cells": [
  {
   "cell_type": "markdown",
   "metadata": {},
   "source": [
    "CONDITIONAL STATEMENT"
   ]
  },
  {
   "cell_type": "markdown",
   "metadata": {},
   "source": []
  },
  {
   "cell_type": "markdown",
   "metadata": {},
   "source": [
    "result = \"win\"#'win'/'loss' / 'tie'\n",
    "if result =\"win\":\n",
    "         print(\"pakistan,s will celebrat\")\n",
    "elif result = \"Tie\"\n",
    "print (\"both team wil get one point\")\n",
    " else:\n",
    "          print(\"pakistan,s will not celebrate\")\n",
    "\n",
    "         both team will get one point"
   ]
  },
  {
   "cell_type": "code",
   "execution_count": 8,
   "metadata": {},
   "outputs": [
    {
     "name": "stdout",
     "output_type": "stream",
     "text": [
      "yeah < this is corolla\n"
     ]
    }
   ],
   "source": [
    "vehicle = input (\"what,s your car name, :\")\n",
    "if vehicle == \"corolla\":\n",
    "        print (f\"yeah < this is {vehicle}\")\n",
    "elif vehicle == \"revo\":      \n",
    "      print(f\"yeah this is a (vehicle)\")  \n",
    "elif vehicle == \"g wagon\":\n",
    "        print(f\"yeah this ia a (vehicle)\")      \n",
    "else :\n",
    "       pass"
   ]
  },
  {
   "cell_type": "markdown",
   "metadata": {},
   "source": []
  },
  {
   "cell_type": "code",
   "execution_count": 9,
   "metadata": {},
   "outputs": [
    {
     "name": "stdout",
     "output_type": "stream",
     "text": [
      "Yes , this is a cat of kingdom animal\n"
     ]
    }
   ],
   "source": [
    "species = \"cat\"\n",
    "if species == \"cat\":\n",
    "     status = \"ok\"\n",
    "     kingdom = \"animal\" \n",
    "     print(f\"Yes , this is a cat of kingdom {kingdom}\")\n",
    "        "
   ]
  },
  {
   "cell_type": "markdown",
   "metadata": {},
   "source": []
  },
  {
   "cell_type": "code",
   "execution_count": null,
   "metadata": {},
   "outputs": [],
   "source": [
    "marks = float(input())\n",
    "if marks >= 80\n",
    "    grade =\"A\"\n"
   ]
  },
  {
   "cell_type": "markdown",
   "metadata": {},
   "source": [
    "COMPARISION OPERATER"
   ]
  },
  {
   "cell_type": "code",
   "execution_count": null,
   "metadata": {},
   "outputs": [],
   "source": [
    "is_fresh = True\n",
    "score = 0 \n",
    "price = \"average\"\n",
    "all_avialable = True\n",
    "if all_avialable:\n",
    "      score +=5\n",
    "if is_fresh:\n",
    "      score += 5\n",
    "if price ==\"average\":\n",
    "      score += 5 \n",
    "print(score)\n",
    "15"
   ]
  },
  {
   "cell_type": "code",
   "execution_count": null,
   "metadata": {},
   "outputs": [],
   "source": [
    "# AND => all condition must be true\n",
    "# OR =>all condition ust be tuetr\n",
    "#  \n",
    "\n"
   ]
  },
  {
   "cell_type": "code",
   "execution_count": null,
   "metadata": {},
   "outputs": [],
   "source": [
    "percentage_inter =60\n",
    "age_limit =18\n",
    "if (percentage_inter 60) and (age_;limit=18)\n",
    "     print(\"Eligible to take admission in university..\")\n",
    "else:\n",
    "     print (\"\")\n"
   ]
  }
 ],
 "metadata": {
  "kernelspec": {
   "display_name": "Python 3",
   "language": "python",
   "name": "python3"
  },
  "language_info": {
   "codemirror_mode": {
    "name": "ipython",
    "version": 3
   },
   "file_extension": ".py",
   "mimetype": "text/x-python",
   "name": "python",
   "nbconvert_exporter": "python",
   "pygments_lexer": "ipython3",
   "version": "3.11.7"
  }
 },
 "nbformat": 4,
 "nbformat_minor": 2
}
