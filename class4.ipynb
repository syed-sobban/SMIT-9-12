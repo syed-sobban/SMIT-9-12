{
 "cells": [
  {
   "cell_type": "code",
   "execution_count": null,
   "metadata": {},
   "outputs": [],
   "source": [
    "matric_pass =True\n",
    "# conditinal statements\n",
    "if matric_pass:\n",
    "   print(f\"can proced with the test\")\n",
    "   test_passed =\n",
    "   \n",
    "\n",
    "    "
   ]
  },
  {
   "cell_type": "code",
   "execution_count": 3,
   "metadata": {},
   "outputs": [
    {
     "name": "stdout",
     "output_type": "stream",
     "text": [
      "you are able to get the admission\n"
     ]
    }
   ],
   "source": [
    "# task:\n",
    "# write a prpgram that check if the student has cleared test and matriculation then he/she take admission not\n",
    "\n",
    "matric_pass = input(f\"whats your qualification\")\n",
    "if matric_pass.lower()==\"pass\":\n",
    "\n",
    "      test_passed = input(\"had you passed the test..\")\n",
    "      if test_passed.lower()==\"pass\":\n",
    "         print(\"you are able to get the admission\")\n",
    "      else:\n",
    "           print(\"sorry, please pass the test\")  \n",
    "else:\n",
    "    print(\"please, first qualify your self \")\n",
    "\n",
    "          "
   ]
  },
  {
   "cell_type": "code",
   "execution_count": 4,
   "metadata": {},
   "outputs": [
    {
     "name": "stdout",
     "output_type": "stream",
     "text": [
      "['Shanghai, China', 'Mumbai, India', 'Moscow, Russia', 'Rio de Janeiro, Brazil', 'Sydney, Australia', 'Dubai, UAE', 'Paris, France', 'London, UK', 'Tokyo, Japan', 'New York City, USA']\n"
     ]
    }
   ],
   "source": [
    "cities = [\"New York City, USA\", \"Tokyo, Japan\", \"London, UK\", \"Paris, France\", \"Dubai, UAE\", \"Sydney, Australia\", \"Rio de Janeiro, Brazil\", \"Moscow, Russia\", \"Mumbai, India\", \"Shanghai, China\"]\n",
    "print(cities[::-1])"
   ]
  },
  {
   "cell_type": "markdown",
   "metadata": {},
   "source": []
  },
  {
   "cell_type": "code",
   "execution_count": 6,
   "metadata": {},
   "outputs": [
    {
     "name": "stdout",
     "output_type": "stream",
     "text": [
      "['New York City, USA', 'Tokyo, Japan', 'London, UK', 'Paris, France', 'Dubai, UAE', 'Sydney, Australia', 'Rio de Janeiro, Brazil', 'Moscow, Russia', 'Mumbai, India', 'Shanghai, China', 'austraila', 'karachi']\n"
     ]
    }
   ],
   "source": [
    "cities.append(\"karachi\")\n",
    "print(cities)\n"
   ]
  },
  {
   "cell_type": "markdown",
   "metadata": {},
   "source": []
  },
  {
   "cell_type": "code",
   "execution_count": 7,
   "metadata": {},
   "outputs": [
    {
     "data": {
      "text/plain": [
       "['New York City, USA',\n",
       " 'Tokyo, Japan',\n",
       " 'London, UK',\n",
       " 'Paris, France',\n",
       " 'Dubai, UAE',\n",
       " 'Sydney, Australia',\n",
       " 'Rio de Janeiro, Brazil',\n",
       " 'Moscow, Russia',\n",
       " 'Mumbai, India',\n",
       " 'Shanghai, China',\n",
       " 'austraila',\n",
       " 'karachi']"
      ]
     },
     "execution_count": 7,
     "metadata": {},
     "output_type": "execute_result"
    }
   ],
   "source": [
    "cities + [\"Dallas\"]\n",
    "print (cities)"
   ]
  },
  {
   "cell_type": "markdown",
   "metadata": {},
   "source": [
    "POPING VALUS FROM LIST\n"
   ]
  },
  {
   "cell_type": "code",
   "execution_count": 9,
   "metadata": {},
   "outputs": [
    {
     "data": {
      "text/plain": [
       "'London, UK'"
      ]
     },
     "execution_count": 9,
     "metadata": {},
     "output_type": "execute_result"
    }
   ],
   "source": [
    "holding_pop_city = cities .pop() # value get removed from list and stor in variable\n",
    "holding_pop_city\n",
    "\"dallas\"\n",
    "cities.pop(2)"
   ]
  },
  {
   "cell_type": "code",
   "execution_count": 10,
   "metadata": {},
   "outputs": [
    {
     "name": "stdout",
     "output_type": "stream",
     "text": [
      "['runnig', 'breakfast', 'studing']\n"
     ]
    }
   ],
   "source": [
    "tasks =[\"praying\",\"runnig\",\"breakfast\",\"studing\"]\n",
    "tasks_done = []\n",
    "tasks_done .append(tasks.pop(0))\n",
    "print(tasks) "
   ]
  },
  {
   "cell_type": "code",
   "execution_count": 12,
   "metadata": {},
   "outputs": [
    {
     "data": {
      "text/plain": [
       "['runnig', 'breakfast', 'studing', 'shopping']"
      ]
     },
     "execution_count": 12,
     "metadata": {},
     "output_type": "execute_result"
    }
   ],
   "source": [
    "toolist =tasks.copy()\n",
    "id(toolist)\n",
    "tasks.append(\"shopping\")\n",
    "tasks\n",
    "# todo_list\n"
   ]
  },
  {
   "cell_type": "code",
   "execution_count": null,
   "metadata": {},
   "outputs": [],
   "source": []
  }
 ],
 "metadata": {
  "kernelspec": {
   "display_name": "base",
   "language": "python",
   "name": "python3"
  },
  "language_info": {
   "codemirror_mode": {
    "name": "ipython",
    "version": 3
   },
   "file_extension": ".py",
   "mimetype": "text/x-python",
   "name": "python",
   "nbconvert_exporter": "python",
   "pygments_lexer": "ipython3",
   "version": "3.11.7"
  }
 },
 "nbformat": 4,
 "nbformat_minor": 2
}
