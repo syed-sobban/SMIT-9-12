{
 "cells": [
  {
   "cell_type": "code",
   "execution_count": 11,
   "metadata": {},
   "outputs": [
    {
     "name": "stdout",
     "output_type": "stream",
     "text": [
      "3\n",
      "1\n"
     ]
    }
   ],
   "source": [
    "bio = [\"Syed Sobban Shah\", 14, '5.4 feet', 19]\n",
    "print(bio.index(19))\n",
    "print(bio.count('Syed Sobban Shah'))"
   ]
  },
  {
   "cell_type": "code",
   "execution_count": null,
   "metadata": {},
   "outputs": [],
   "source": []
  },
  {
   "cell_type": "code",
   "execution_count": 12,
   "metadata": {},
   "outputs": [
    {
     "name": "stdout",
     "output_type": "stream",
     "text": [
      "apple\n",
      "banana\n",
      "mango\n"
     ]
    }
   ],
   "source": [
    "fruits = ['apple', 'banana', 'mango']\n",
    "for fruit in fruits:\n",
    "    print(fruit)\n"
   ]
  },
  {
   "cell_type": "code",
   "execution_count": 13,
   "metadata": {},
   "outputs": [
    {
     "name": "stdout",
     "output_type": "stream",
     "text": [
      "['Syed Sobban Shah', 14, '5.4 feet', 19]\n",
      "['Syed Sobban Shah', 14, '5.4 feet', 19]\n",
      "['Syed Sobban Shah', 14, '5.4 feet', 19]\n",
      "['Syed Sobban Shah', 14, '5.4 feet', 19]\n"
     ]
    }
   ],
   "source": [
    "for data in bio:\n",
    "    print(bio)"
   ]
  },
  {
   "cell_type": "code",
   "execution_count": 14,
   "metadata": {},
   "outputs": [
    {
     "name": "stdout",
     "output_type": "stream",
     "text": [
      "the name of the resident: 0\n",
      "the name of the resident: 1\n",
      "the name of the resident: 2\n",
      "the name of the resident: 3\n"
     ]
    }
   ],
   "source": [
    "en = enumerate(bio)\n",
    "for data in en:\n",
    "    print(f\"the name of the resident: {data[0]}\"\n",
    "          )"
   ]
  },
  {
   "cell_type": "code",
   "execution_count": 15,
   "metadata": {},
   "outputs": [
    {
     "ename": "SyntaxError",
     "evalue": "invalid syntax (1073735818.py, line 3)",
     "output_type": "error",
     "traceback": [
      "\u001b[1;36m  Cell \u001b[1;32mIn[15], line 3\u001b[1;36m\u001b[0m\n\u001b[1;33m    user = input {\"enter a city:\"}\u001b[0m\n\u001b[1;37m                 ^\u001b[0m\n\u001b[1;31mSyntaxError\u001b[0m\u001b[1;31m:\u001b[0m invalid syntax\n"
     ]
    }
   ],
   "source": [
    "clean_cites ={\"karachi\",\"lahore\",\"Islamabad\"}\n",
    "not_clean ={}\n",
    "user = input {\"enter a city:\"}\n",
    "\n",
    "\n"
   ]
  },
  {
   "cell_type": "code",
   "execution_count": null,
   "metadata": {},
   "outputs": [
    {
     "name": "stdout",
     "output_type": "stream",
     "text": [
      "multan karachi\n",
      "multan lahore\n",
      "multan islamabad\n",
      "quetta karachi\n",
      "quetta lahore\n",
      "quetta islamabad\n",
      "peshawar karachi\n",
      "peshawar lahore\n",
      "peshawar islamabad\n"
     ]
    }
   ],
   "source": [
    "group_A = [\"multan\", \"quetta\", \"peshawar\"]\n",
    "group_B = [\"karachi\",\"lahore\",\"islamabad\"]\n",
    "\n",
    "for i in group_A:\n",
    "    for j in group_B:\n",
    "         print(i,j)\n",
    "         \n"
   ]
  },
  {
   "cell_type": "code",
   "execution_count": null,
   "metadata": {},
   "outputs": [],
   "source": [
    "####DICTINARIOUS\n"
   ]
  },
  {
   "cell_type": "code",
   "execution_count": 1,
   "metadata": {},
   "outputs": [
    {
     "name": "stdout",
     "output_type": "stream",
     "text": [
      "15\n"
     ]
    }
   ],
   "source": [
    "dict = {'age':15,'weight':57}\n",
    "print(dict['age'])"
   ]
  },
  {
   "cell_type": "code",
   "execution_count": 2,
   "metadata": {},
   "outputs": [],
   "source": [
    "dict_versatility = {\"Qasim\": 1,\n",
    "                    \"Hassan\": 2,\n",
    "                    \"Subhan\" :3,\n",
    "                    }"
   ]
  },
  {
   "cell_type": "code",
   "execution_count": 3,
   "metadata": {},
   "outputs": [
    {
     "data": {
      "text/plain": [
       "2"
      ]
     },
     "execution_count": 3,
     "metadata": {},
     "output_type": "execute_result"
    }
   ],
   "source": [
    "dict_versatility[\"Hassan\"]"
   ]
  },
  {
   "cell_type": "code",
   "execution_count": null,
   "metadata": {},
   "outputs": [],
   "source": [
    "things_to_remember = {'First name': }"
   ]
  },
  {
   "cell_type": "code",
   "execution_count": 6,
   "metadata": {},
   "outputs": [
    {
     "data": {
      "text/plain": [
       "True"
      ]
     },
     "execution_count": 6,
     "metadata": {},
     "output_type": "execute_result"
    }
   ],
   "source": [
    "user = input(\"What do you want to do\")\n",
    "emty = {'task':user}\n",
    "\n",
    "\n",
    "user == emty['task']"
   ]
  },
  {
   "cell_type": "code",
   "execution_count": null,
   "metadata": {},
   "outputs": [],
   "source": [
    "# lopping on dictionaries\n",
    "# 1. by default keys\n",
    "# 2. for values we should use .values we should"
   ]
  },
  {
   "cell_type": "code",
   "execution_count": null,
   "metadata": {},
   "outputs": [],
   "source": [
    "list_of_dict = [\n",
    "    {'first name':'david',\n",
    "     'last name'}\n",
    "]"
   ]
  }
 ],
 "metadata": {
  "kernelspec": {
   "display_name": "base",
   "language": "python",
   "name": "python3"
  },
  "language_info": {
   "codemirror_mode": {
    "name": "ipython",
    "version": 3
   },
   "file_extension": ".py",
   "mimetype": "text/x-python",
   "name": "python",
   "nbconvert_exporter": "python",
   "pygments_lexer": "ipython3",
   "version": "3.11.7"
  }
 },
 "nbformat": 4,
 "nbformat_minor": 2
}
